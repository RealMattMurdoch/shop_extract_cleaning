{
 "cells": [
  {
   "cell_type": "code",
   "execution_count": 1,
   "metadata": {},
   "outputs": [],
   "source": [
    "#pip install pandas numpy statsmodels seaborn numpy matplotlib"
   ]
  },
  {
   "cell_type": "code",
   "execution_count": 2,
   "metadata": {},
   "outputs": [],
   "source": [
    "# Import necessary libraries\n",
    "import numpy as np\n",
    "import pandas as pd\n",
    "\n",
    "import matplotlib.pyplot as plt\n",
    "import seaborn as sns\n",
    "\n",
    "# this so called \"line magic\" command, amongst other things, stores the plots in the notebook document.\n",
    "%matplotlib inline\n",
    "\n",
    "# library for linear regression\n",
    "import statsmodels.api as sm\n",
    "\n",
    "from statsmodels.tsa.holtwinters import ExponentialSmoothing\n",
    "\n",
    "# warnings supression\n",
    "import warnings\n",
    "warnings.simplefilter(action='ignore', category=FutureWarning)"
   ]
  },
  {
   "cell_type": "code",
   "execution_count": 3,
   "metadata": {},
   "outputs": [
    {
     "data": {
      "text/html": [
       "<div>\n",
       "<style scoped>\n",
       "    .dataframe tbody tr th:only-of-type {\n",
       "        vertical-align: middle;\n",
       "    }\n",
       "\n",
       "    .dataframe tbody tr th {\n",
       "        vertical-align: top;\n",
       "    }\n",
       "\n",
       "    .dataframe thead th {\n",
       "        text-align: right;\n",
       "    }\n",
       "</style>\n",
       "<table border=\"1\" class=\"dataframe\">\n",
       "  <thead>\n",
       "    <tr style=\"text-align: right;\">\n",
       "      <th></th>\n",
       "      <th>Unnamed: 0</th>\n",
       "      <th>2018</th>\n",
       "      <th>2019</th>\n",
       "      <th>2020</th>\n",
       "      <th>2021</th>\n",
       "      <th>2022</th>\n",
       "      <th>2023</th>\n",
       "      <th>2024</th>\n",
       "    </tr>\n",
       "  </thead>\n",
       "  <tbody>\n",
       "    <tr>\n",
       "      <th>0</th>\n",
       "      <td>GMV</td>\n",
       "      <td>6.6</td>\n",
       "      <td>8.2</td>\n",
       "      <td>10.7</td>\n",
       "      <td>14.3</td>\n",
       "      <td>14.8</td>\n",
       "      <td>14.6</td>\n",
       "      <td>14.8</td>\n",
       "    </tr>\n",
       "    <tr>\n",
       "      <th>1</th>\n",
       "      <td>Net Revenue</td>\n",
       "      <td>5.3</td>\n",
       "      <td>6.4</td>\n",
       "      <td>8.0</td>\n",
       "      <td>10.4</td>\n",
       "      <td>10.3</td>\n",
       "      <td>10.1</td>\n",
       "      <td>10.3</td>\n",
       "    </tr>\n",
       "  </tbody>\n",
       "</table>\n",
       "</div>"
      ],
      "text/plain": [
       "    Unnamed: 0  2018  2019  2020  2021  2022  2023  2024\n",
       "0          GMV   6.6   8.2  10.7  14.3  14.8  14.6  14.8\n",
       "1  Net Revenue   5.3   6.4   8.0  10.4  10.3  10.1  10.3"
      ]
     },
     "execution_count": 3,
     "metadata": {},
     "output_type": "execute_result"
    }
   ],
   "source": [
    "# read in forecast dataset and mark all questionmarks as NaNs.\n",
    "df = pd.read_csv(\"data/forecast_zalando.csv\",\n",
    "                  na_values='?')\n",
    "df.head()\n",
    "\n",
    "# let's drop 2025 since I want this to be forecasted using this new model\n",
    "# keeping 2024 using the Q1 2024 results of 1.5% increase\n",
    "df = df.drop(columns=[\"2025\"])\n",
    "df"
   ]
  },
  {
   "cell_type": "code",
   "execution_count": 4,
   "metadata": {},
   "outputs": [],
   "source": [
    "# Set 'Unnamed: 0' as index \n",
    "df.set_index('Unnamed: 0', inplace=True)\n",
    "\n",
    "# transpose (flip the axis so years are rows, and GMV/Revenue are columns)\n",
    "df = df.T.copy()"
   ]
  },
  {
   "cell_type": "code",
   "execution_count": 5,
   "metadata": {},
   "outputs": [
    {
     "data": {
      "text/html": [
       "<div>\n",
       "<style scoped>\n",
       "    .dataframe tbody tr th:only-of-type {\n",
       "        vertical-align: middle;\n",
       "    }\n",
       "\n",
       "    .dataframe tbody tr th {\n",
       "        vertical-align: top;\n",
       "    }\n",
       "\n",
       "    .dataframe thead th {\n",
       "        text-align: right;\n",
       "    }\n",
       "</style>\n",
       "<table border=\"1\" class=\"dataframe\">\n",
       "  <thead>\n",
       "    <tr style=\"text-align: right;\">\n",
       "      <th>Unnamed: 0</th>\n",
       "      <th>GMV</th>\n",
       "      <th>Net Revenue</th>\n",
       "    </tr>\n",
       "  </thead>\n",
       "  <tbody>\n",
       "    <tr>\n",
       "      <th>2018</th>\n",
       "      <td>6.6</td>\n",
       "      <td>5.3</td>\n",
       "    </tr>\n",
       "    <tr>\n",
       "      <th>2019</th>\n",
       "      <td>8.2</td>\n",
       "      <td>6.4</td>\n",
       "    </tr>\n",
       "    <tr>\n",
       "      <th>2020</th>\n",
       "      <td>10.7</td>\n",
       "      <td>8.0</td>\n",
       "    </tr>\n",
       "    <tr>\n",
       "      <th>2021</th>\n",
       "      <td>14.3</td>\n",
       "      <td>10.4</td>\n",
       "    </tr>\n",
       "    <tr>\n",
       "      <th>2022</th>\n",
       "      <td>14.8</td>\n",
       "      <td>10.3</td>\n",
       "    </tr>\n",
       "    <tr>\n",
       "      <th>2023</th>\n",
       "      <td>14.6</td>\n",
       "      <td>10.1</td>\n",
       "    </tr>\n",
       "    <tr>\n",
       "      <th>2024</th>\n",
       "      <td>14.8</td>\n",
       "      <td>10.3</td>\n",
       "    </tr>\n",
       "  </tbody>\n",
       "</table>\n",
       "</div>"
      ],
      "text/plain": [
       "Unnamed: 0   GMV  Net Revenue\n",
       "2018         6.6          5.3\n",
       "2019         8.2          6.4\n",
       "2020        10.7          8.0\n",
       "2021        14.3         10.4\n",
       "2022        14.8         10.3\n",
       "2023        14.6         10.1\n",
       "2024        14.8         10.3"
      ]
     },
     "execution_count": 5,
     "metadata": {},
     "output_type": "execute_result"
    }
   ],
   "source": [
    "# should see dataframe now flipped correctly\n",
    "df"
   ]
  },
  {
   "cell_type": "markdown",
   "metadata": {},
   "source": [
    "## Setup the Model"
   ]
  },
  {
   "cell_type": "code",
   "execution_count": 6,
   "metadata": {},
   "outputs": [],
   "source": [
    "# Assign independent & dependent variables\n",
    "X = df['Net Revenue'].astype(float) #independent\n",
    "y = df['GMV'].astype(float)         #dependent"
   ]
  },
  {
   "cell_type": "code",
   "execution_count": 7,
   "metadata": {},
   "outputs": [],
   "source": [
    "# Add a constant to the independent variable set (intercept term) for 1's\n",
    "# This is because the statsmodel OLS needs an adjustable intercept\n",
    "X = sm.add_constant(X)\n",
    "\n",
    "# Fit the regression model\n",
    "model = sm.OLS(y, X).fit()"
   ]
  },
  {
   "cell_type": "code",
   "execution_count": 8,
   "metadata": {},
   "outputs": [
    {
     "name": "stderr",
     "output_type": "stream",
     "text": [
      "c:\\Users\\Arny\\miniconda3\\Lib\\site-packages\\statsmodels\\stats\\stattools.py:74: ValueWarning: omni_normtest is not valid with less than 8 observations; 7 samples were given.\n",
      "  warn(\"omni_normtest is not valid with less than 8 observations; %i \"\n"
     ]
    },
    {
     "data": {
      "text/html": [
       "<table class=\"simpletable\">\n",
       "<caption>OLS Regression Results</caption>\n",
       "<tr>\n",
       "  <th>Dep. Variable:</th>           <td>GMV</td>       <th>  R-squared:         </th> <td>   0.994</td>\n",
       "</tr>\n",
       "<tr>\n",
       "  <th>Model:</th>                   <td>OLS</td>       <th>  Adj. R-squared:    </th> <td>   0.993</td>\n",
       "</tr>\n",
       "<tr>\n",
       "  <th>Method:</th>             <td>Least Squares</td>  <th>  F-statistic:       </th> <td>   823.0</td>\n",
       "</tr>\n",
       "<tr>\n",
       "  <th>Date:</th>             <td>Thu, 23 May 2024</td> <th>  Prob (F-statistic):</th> <td>9.64e-07</td>\n",
       "</tr>\n",
       "<tr>\n",
       "  <th>Time:</th>                 <td>02:15:03</td>     <th>  Log-Likelihood:    </th> <td>-0.25593</td>\n",
       "</tr>\n",
       "<tr>\n",
       "  <th>No. Observations:</th>      <td>     7</td>      <th>  AIC:               </th> <td>   4.512</td>\n",
       "</tr>\n",
       "<tr>\n",
       "  <th>Df Residuals:</th>          <td>     5</td>      <th>  BIC:               </th> <td>   4.404</td>\n",
       "</tr>\n",
       "<tr>\n",
       "  <th>Df Model:</th>              <td>     1</td>      <th>                     </th>     <td> </td>   \n",
       "</tr>\n",
       "<tr>\n",
       "  <th>Covariance Type:</th>      <td>nonrobust</td>    <th>                     </th>     <td> </td>   \n",
       "</tr>\n",
       "</table>\n",
       "<table class=\"simpletable\">\n",
       "<tr>\n",
       "       <td></td>          <th>coef</th>     <th>std err</th>      <th>t</th>      <th>P>|t|</th>  <th>[0.025</th>    <th>0.975]</th>  \n",
       "</tr>\n",
       "<tr>\n",
       "  <th>const</th>       <td>   -2.1599</td> <td>    0.506</td> <td>   -4.267</td> <td> 0.008</td> <td>   -3.461</td> <td>   -0.859</td>\n",
       "</tr>\n",
       "<tr>\n",
       "  <th>Net Revenue</th> <td>    1.6303</td> <td>    0.057</td> <td>   28.688</td> <td> 0.000</td> <td>    1.484</td> <td>    1.776</td>\n",
       "</tr>\n",
       "</table>\n",
       "<table class=\"simpletable\">\n",
       "<tr>\n",
       "  <th>Omnibus:</th>       <td>   nan</td> <th>  Durbin-Watson:     </th> <td>   1.402</td>\n",
       "</tr>\n",
       "<tr>\n",
       "  <th>Prob(Omnibus):</th> <td>   nan</td> <th>  Jarque-Bera (JB):  </th> <td>   0.849</td>\n",
       "</tr>\n",
       "<tr>\n",
       "  <th>Skew:</th>          <td>-0.820</td> <th>  Prob(JB):          </th> <td>   0.654</td>\n",
       "</tr>\n",
       "<tr>\n",
       "  <th>Kurtosis:</th>      <td> 2.533</td> <th>  Cond. No.          </th> <td>    40.7</td>\n",
       "</tr>\n",
       "</table><br/><br/>Notes:<br/>[1] Standard Errors assume that the covariance matrix of the errors is correctly specified."
      ],
      "text/latex": [
       "\\begin{center}\n",
       "\\begin{tabular}{lclc}\n",
       "\\toprule\n",
       "\\textbf{Dep. Variable:}    &       GMV        & \\textbf{  R-squared:         } &     0.994   \\\\\n",
       "\\textbf{Model:}            &       OLS        & \\textbf{  Adj. R-squared:    } &     0.993   \\\\\n",
       "\\textbf{Method:}           &  Least Squares   & \\textbf{  F-statistic:       } &     823.0   \\\\\n",
       "\\textbf{Date:}             & Thu, 23 May 2024 & \\textbf{  Prob (F-statistic):} &  9.64e-07   \\\\\n",
       "\\textbf{Time:}             &     02:15:03     & \\textbf{  Log-Likelihood:    } &  -0.25593   \\\\\n",
       "\\textbf{No. Observations:} &           7      & \\textbf{  AIC:               } &     4.512   \\\\\n",
       "\\textbf{Df Residuals:}     &           5      & \\textbf{  BIC:               } &     4.404   \\\\\n",
       "\\textbf{Df Model:}         &           1      & \\textbf{                     } &             \\\\\n",
       "\\textbf{Covariance Type:}  &    nonrobust     & \\textbf{                     } &             \\\\\n",
       "\\bottomrule\n",
       "\\end{tabular}\n",
       "\\begin{tabular}{lcccccc}\n",
       "                     & \\textbf{coef} & \\textbf{std err} & \\textbf{t} & \\textbf{P$> |$t$|$} & \\textbf{[0.025} & \\textbf{0.975]}  \\\\\n",
       "\\midrule\n",
       "\\textbf{const}       &      -2.1599  &        0.506     &    -4.267  &         0.008        &       -3.461    &       -0.859     \\\\\n",
       "\\textbf{Net Revenue} &       1.6303  &        0.057     &    28.688  &         0.000        &        1.484    &        1.776     \\\\\n",
       "\\bottomrule\n",
       "\\end{tabular}\n",
       "\\begin{tabular}{lclc}\n",
       "\\textbf{Omnibus:}       &    nan & \\textbf{  Durbin-Watson:     } &    1.402  \\\\\n",
       "\\textbf{Prob(Omnibus):} &    nan & \\textbf{  Jarque-Bera (JB):  } &    0.849  \\\\\n",
       "\\textbf{Skew:}          & -0.820 & \\textbf{  Prob(JB):          } &    0.654  \\\\\n",
       "\\textbf{Kurtosis:}      &  2.533 & \\textbf{  Cond. No.          } &     40.7  \\\\\n",
       "\\bottomrule\n",
       "\\end{tabular}\n",
       "%\\caption{OLS Regression Results}\n",
       "\\end{center}\n",
       "\n",
       "Notes: \\newline\n",
       " [1] Standard Errors assume that the covariance matrix of the errors is correctly specified."
      ],
      "text/plain": [
       "<class 'statsmodels.iolib.summary.Summary'>\n",
       "\"\"\"\n",
       "                            OLS Regression Results                            \n",
       "==============================================================================\n",
       "Dep. Variable:                    GMV   R-squared:                       0.994\n",
       "Model:                            OLS   Adj. R-squared:                  0.993\n",
       "Method:                 Least Squares   F-statistic:                     823.0\n",
       "Date:                Thu, 23 May 2024   Prob (F-statistic):           9.64e-07\n",
       "Time:                        02:15:03   Log-Likelihood:               -0.25593\n",
       "No. Observations:                   7   AIC:                             4.512\n",
       "Df Residuals:                       5   BIC:                             4.404\n",
       "Df Model:                           1                                         \n",
       "Covariance Type:            nonrobust                                         \n",
       "===============================================================================\n",
       "                  coef    std err          t      P>|t|      [0.025      0.975]\n",
       "-------------------------------------------------------------------------------\n",
       "const          -2.1599      0.506     -4.267      0.008      -3.461      -0.859\n",
       "Net Revenue     1.6303      0.057     28.688      0.000       1.484       1.776\n",
       "==============================================================================\n",
       "Omnibus:                          nan   Durbin-Watson:                   1.402\n",
       "Prob(Omnibus):                    nan   Jarque-Bera (JB):                0.849\n",
       "Skew:                          -0.820   Prob(JB):                        0.654\n",
       "Kurtosis:                       2.533   Cond. No.                         40.7\n",
       "==============================================================================\n",
       "\n",
       "Notes:\n",
       "[1] Standard Errors assume that the covariance matrix of the errors is correctly specified.\n",
       "\"\"\""
      ]
     },
     "execution_count": 8,
     "metadata": {},
     "output_type": "execute_result"
    }
   ],
   "source": [
    "# display the regression results\n",
    "model.summary()"
   ]
  },
  {
   "cell_type": "markdown",
   "metadata": {},
   "source": [
    "## Model Fit\n",
    "The extremely high t-statistic (28.688) for Net Revenue and its extremely low p-value (0.000) indicate that Net Revenue is a very strong predictor of GMV.\n",
    "\n",
    "### Very strong relationship Net Revenue and GMV\n",
    "\n",
    "#### P-Value of 9.64e-07:\n",
    "Extremely small and much lower than the common significance level of 0.05\n",
    "#### Statistical Significance:\n",
    "This very low p-value indicates that it is highly unlikely that the observed relationship between the independent and dependent variables is due to random chance.\n",
    "#### High confidence: Rejecting the Null Hypothesis:\n",
    "Since the p-value is so small, we can reject the null hypothesis with high confidence. This suggests that the independent variable (Net Revenue) has a significant effect on the dependent variable (GMV)."
   ]
  },
  {
   "cell_type": "code",
   "execution_count": 9,
   "metadata": {},
   "outputs": [
    {
     "name": "stdout",
     "output_type": "stream",
     "text": [
      "intercept: -2.1599497802887537, slope: 1.630257376020087\n"
     ]
    }
   ],
   "source": [
    "# print out the intercept and slope of the model by adressing the parameters via \".params\"\n",
    "intercept, slope = model.params\n",
    "\n",
    "print(f'intercept: {intercept}, slope: {slope}')"
   ]
  },
  {
   "cell_type": "markdown",
   "metadata": {},
   "source": [
    "####  R-squared $\\textbf{R}^2$\n",
    "Proportion of the variation in $y$ that is explained by the model. Measured on a scale from 0 (bad) to 1 (good)  \n",
    "As a rule of thumb, the standards for R-Squared are the following:\n",
    "\n",
    "- a R-Squared above 0.7 is generally be seen as showing a high level of correlation,\n",
    "- a measure below 0.4 would show a low correlation. \n",
    "\n",
    "#### const coef\n",
    "- This is the intercept, in other words: value of y when x = 0  \n",
    "#### Net Revenue coef\n",
    "- This is the slope, in other words: when the Net Revenues increases by 1$, GMV increases by around 1.63"
   ]
  },
  {
   "cell_type": "code",
   "execution_count": 10,
   "metadata": {},
   "outputs": [
    {
     "data": {
      "image/png": "[encoded data removed]",
      "text/plain": [
       "<Figure size 600x400 with 1 Axes>"
      ]
     },
     "metadata": {},
     "output_type": "display_data"
    }
   ],
   "source": [
    "# Plotting the results of the model\n",
    "fig, ax = plt.subplots(figsize=(6, 4))\n",
    "\n",
    "x = df['Net Revenue']\n",
    "y = df['GMV']\n",
    "\n",
    "# add data points\n",
    "ax.scatter(x, y, alpha=0.5, color='orchid')\n",
    "fig.suptitle('Relationship between Net Revenue and GMV')\n",
    "\n",
    "# plotting the regression line with the help of our calculated intercept and slope variables\n",
    "ax.plot(x, x*slope+intercept, '-', color='darkorchid', linewidth=2);\n",
    "ax.set_ylabel(\"GMV\");\n",
    "ax.set_xlabel(\"Net Revenue\");"
   ]
  },
  {
   "cell_type": "markdown",
   "metadata": {},
   "source": [
    "## Predict future GMV using the new model"
   ]
  },
  {
   "cell_type": "markdown",
   "metadata": {},
   "source": [
    "GMV=β0 + β1 *Net Revenue"
   ]
  },
  {
   "cell_type": "code",
   "execution_count": 11,
   "metadata": {},
   "outputs": [],
   "source": [
    "# coefficients from regression model \n",
    "intercept = -2.1599\n",
    "slope = 1.6303\n",
    "\n",
    "# Projected Net Revenue for the next 2 years as a dictionary\n",
    "projected_net_revenue = {\n",
    "    2025: 10.5,\n",
    "    2026: 10.7\n",
    "}"
   ]
  },
  {
   "cell_type": "code",
   "execution_count": 12,
   "metadata": {},
   "outputs": [],
   "source": [
    "# Function to predict GMV based on the regression equation\n",
    "def predict_gmv(net_revenue, intercept, slope):\n",
    "    return intercept + slope * net_revenue\n",
    "\n",
    "# use a dictionary comprehension to predict GMV for each projected Net Revenue value and store the results.\n",
    "predictions = {year: predict_gmv(net_revenue, intercept, slope) \n",
    "               for year, net_revenue \n",
    "               in projected_net_revenue.items()}"
   ]
  },
  {
   "cell_type": "code",
   "execution_count": 13,
   "metadata": {},
   "outputs": [
    {
     "name": "stdout",
     "output_type": "stream",
     "text": [
      "Predicted GMV for 2025: 14.96\n",
      "Predicted GMV for 2026: 15.28\n"
     ]
    }
   ],
   "source": [
    "# Print the predictions\n",
    "for year, gmv in predictions.items():\n",
    "    print(f\"Predicted GMV for {year}: {gmv:.2f}\")"
   ]
  },
  {
   "cell_type": "code",
   "execution_count": 14,
   "metadata": {},
   "outputs": [
    {
     "data": {
      "text/html": [
       "<div>\n",
       "<style scoped>\n",
       "    .dataframe tbody tr th:only-of-type {\n",
       "        vertical-align: middle;\n",
       "    }\n",
       "\n",
       "    .dataframe tbody tr th {\n",
       "        vertical-align: top;\n",
       "    }\n",
       "\n",
       "    .dataframe thead th {\n",
       "        text-align: right;\n",
       "    }\n",
       "</style>\n",
       "<table border=\"1\" class=\"dataframe\">\n",
       "  <thead>\n",
       "    <tr style=\"text-align: right;\">\n",
       "      <th></th>\n",
       "      <th>Year</th>\n",
       "      <th>Predicted GMV</th>\n",
       "    </tr>\n",
       "  </thead>\n",
       "  <tbody>\n",
       "    <tr>\n",
       "      <th>0</th>\n",
       "      <td>2025</td>\n",
       "      <td>14.95825</td>\n",
       "    </tr>\n",
       "    <tr>\n",
       "      <th>1</th>\n",
       "      <td>2026</td>\n",
       "      <td>15.28431</td>\n",
       "    </tr>\n",
       "  </tbody>\n",
       "</table>\n",
       "</div>"
      ],
      "text/plain": [
       "   Year  Predicted GMV\n",
       "0  2025       14.95825\n",
       "1  2026       15.28431"
      ]
     },
     "execution_count": 14,
     "metadata": {},
     "output_type": "execute_result"
    }
   ],
   "source": [
    "# Display a DataFrame for predictions\n",
    "predictions_df = pd.DataFrame(list(predictions.items()), columns=['Year', 'Predicted GMV'])\n",
    "predictions_df"
   ]
  },
  {
   "cell_type": "markdown",
   "metadata": {},
   "source": [
    "## Forecast Net Revenue"
   ]
  },
  {
   "cell_type": "code",
   "execution_count": 15,
   "metadata": {},
   "outputs": [
    {
     "data": {
      "text/html": [
       "<div>\n",
       "<style scoped>\n",
       "    .dataframe tbody tr th:only-of-type {\n",
       "        vertical-align: middle;\n",
       "    }\n",
       "\n",
       "    .dataframe tbody tr th {\n",
       "        vertical-align: top;\n",
       "    }\n",
       "\n",
       "    .dataframe thead th {\n",
       "        text-align: right;\n",
       "    }\n",
       "</style>\n",
       "<table border=\"1\" class=\"dataframe\">\n",
       "  <thead>\n",
       "    <tr style=\"text-align: right;\">\n",
       "      <th>Unnamed: 0</th>\n",
       "      <th>GMV</th>\n",
       "      <th>Net Revenue</th>\n",
       "    </tr>\n",
       "  </thead>\n",
       "  <tbody>\n",
       "    <tr>\n",
       "      <th>2021</th>\n",
       "      <td>14.3</td>\n",
       "      <td>10.4</td>\n",
       "    </tr>\n",
       "    <tr>\n",
       "      <th>2022</th>\n",
       "      <td>14.8</td>\n",
       "      <td>10.3</td>\n",
       "    </tr>\n",
       "    <tr>\n",
       "      <th>2023</th>\n",
       "      <td>14.6</td>\n",
       "      <td>10.1</td>\n",
       "    </tr>\n",
       "    <tr>\n",
       "      <th>2024</th>\n",
       "      <td>14.8</td>\n",
       "      <td>10.3</td>\n",
       "    </tr>\n",
       "  </tbody>\n",
       "</table>\n",
       "</div>"
      ],
      "text/plain": [
       "Unnamed: 0   GMV  Net Revenue\n",
       "2021        14.3         10.4\n",
       "2022        14.8         10.3\n",
       "2023        14.6         10.1\n",
       "2024        14.8         10.3"
      ]
     },
     "execution_count": 15,
     "metadata": {},
     "output_type": "execute_result"
    }
   ],
   "source": [
    "# create new DataFrame\n",
    "df_rev_f = df.copy()\n",
    "# convert index to strings so we can actually remove some year rows\n",
    "df_rev_f.index.astype(str)\n",
    "# concentrating on 2021 onwards for data forecasting accuracy\n",
    "df_rev_f.drop(index=[\"2018\", \"2019\", \"2020\"], inplace=True)\n",
    "df_rev_f"
   ]
  },
  {
   "cell_type": "markdown",
   "metadata": {},
   "source": [
    "### Try holt-winters exponential smoothing forecasting"
   ]
  },
  {
   "cell_type": "code",
   "execution_count": 16,
   "metadata": {},
   "outputs": [
    {
     "name": "stderr",
     "output_type": "stream",
     "text": [
      "c:\\Users\\Arny\\miniconda3\\Lib\\site-packages\\statsmodels\\tsa\\base\\tsa_model.py:473: ValueWarning: No frequency information was provided, so inferred frequency YS-JAN will be used.\n",
      "  self._init_dates(dates, freq)\n"
     ]
    }
   ],
   "source": [
    "f_model = ExponentialSmoothing(df_rev_f['Net Revenue'], trend='add', seasonal=None, seasonal_periods=1)\n",
    "fit = f_model.fit()"
   ]
  },
  {
   "cell_type": "code",
   "execution_count": 17,
   "metadata": {},
   "outputs": [
    {
     "name": "stdout",
     "output_type": "stream",
     "text": [
      "Forecasted Net Revenue:\n",
      "2025-01-01    10.150142\n",
      "2026-01-01    10.100198\n",
      "Freq: YS-JAN, dtype: float64\n"
     ]
    }
   ],
   "source": [
    "# Forecast Net Revenue for 2025 and 2026\n",
    "forecast_net_revenue = fit.forecast(steps=2)\n",
    "print(\"Forecasted Net Revenue:\")\n",
    "print(forecast_net_revenue)"
   ]
  },
  {
   "cell_type": "code",
   "execution_count": 18,
   "metadata": {},
   "outputs": [],
   "source": [
    "# Prepare a DataFrame to hold both the forecasted Net Revenue and predicted GMV\n",
    "years = [2025, 2026]\n",
    "predicted_net_revenue = forecast_net_revenue.values\n",
    "\n",
    "# coefficients from regression model (already declared earlier, but using again for reference)\n",
    "intercept = -2.1599\n",
    "slope = 1.6303\n",
    "\n",
    "# Predict GMV for the forecasted Net Revenue using earlier function\n",
    "predicted_gmv = [predict_gmv(net_revenue, intercept, slope) for net_revenue in predicted_net_revenue]"
   ]
  },
  {
   "cell_type": "code",
   "execution_count": 19,
   "metadata": {},
   "outputs": [
    {
     "data": {
      "text/html": [
       "<div>\n",
       "<style scoped>\n",
       "    .dataframe tbody tr th:only-of-type {\n",
       "        vertical-align: middle;\n",
       "    }\n",
       "\n",
       "    .dataframe tbody tr th {\n",
       "        vertical-align: top;\n",
       "    }\n",
       "\n",
       "    .dataframe thead th {\n",
       "        text-align: right;\n",
       "    }\n",
       "</style>\n",
       "<table border=\"1\" class=\"dataframe\">\n",
       "  <thead>\n",
       "    <tr style=\"text-align: right;\">\n",
       "      <th></th>\n",
       "      <th>Year</th>\n",
       "      <th>Predicted Net Revenue</th>\n",
       "      <th>Predicted GMV</th>\n",
       "    </tr>\n",
       "  </thead>\n",
       "  <tbody>\n",
       "    <tr>\n",
       "      <th>0</th>\n",
       "      <td>2025</td>\n",
       "      <td>10.150142</td>\n",
       "      <td>14.387877</td>\n",
       "    </tr>\n",
       "    <tr>\n",
       "      <th>1</th>\n",
       "      <td>2026</td>\n",
       "      <td>10.100198</td>\n",
       "      <td>14.306452</td>\n",
       "    </tr>\n",
       "  </tbody>\n",
       "</table>\n",
       "</div>"
      ],
      "text/plain": [
       "   Year  Predicted Net Revenue  Predicted GMV\n",
       "0  2025              10.150142      14.387877\n",
       "1  2026              10.100198      14.306452"
      ]
     },
     "execution_count": 19,
     "metadata": {},
     "output_type": "execute_result"
    }
   ],
   "source": [
    "# Create a DataFrame for the predictions\n",
    "rev_predictions_df = pd.DataFrame({\n",
    "    'Year': years,\n",
    "    'Predicted Net Revenue': predicted_net_revenue,\n",
    "    'Predicted GMV': predicted_gmv\n",
    "})\n",
    "rev_predictions_df"
   ]
  },
  {
   "cell_type": "markdown",
   "metadata": {},
   "source": [
    "### Do not like this accuracy as it trends negatively despite it increasing last year and remaining stable"
   ]
  },
  {
   "cell_type": "markdown",
   "metadata": {},
   "source": [
    "### Use an average growth rate based off the last 3 years then apply GMV regression model"
   ]
  },
  {
   "cell_type": "code",
   "execution_count": 20,
   "metadata": {},
   "outputs": [],
   "source": [
    "# Calculate the average growth rate based on the last 3 years\n",
    "recent_years = df_rev_f.index[-3:]\n",
    "recent_revenue = df_rev_f['Net Revenue'][-3:]"
   ]
  },
  {
   "cell_type": "markdown",
   "metadata": {},
   "source": [
    "### calculate year over year growth rate"
   ]
  },
  {
   "cell_type": "code",
   "execution_count": 21,
   "metadata": {},
   "outputs": [],
   "source": [
    "# calculate the percentage change between the current and a prior element\n",
    "# (current_value - previous_value) / previous_value.\n",
    "growth_rates = recent_revenue.pct_change().dropna()\n",
    "\n",
    "# Calculate the average growth rate\n",
    "average_growth_rate = growth_rates.mean()"
   ]
  },
  {
   "cell_type": "code",
   "execution_count": 22,
   "metadata": {},
   "outputs": [
    {
     "name": "stdout",
     "output_type": "stream",
     "text": [
      "Forecasted Net Revenue:\n",
      "2025    10.301980\n",
      "2026    10.303961\n",
      "dtype: float64\n"
     ]
    }
   ],
   "source": [
    "# Forecast Net Revenue for the next 2 years based on the average growth rate\n",
    "last_known_revenue = df_rev_f['Net Revenue'].iloc[-1]\n",
    "forecast_net_revenue = []\n",
    "\n",
    "# take last known Net Revenue (2024) and the average growth rate, we forecast Net Revenue for 2025 and 2026.\n",
    "for year in range(2025, 2027):\n",
    "    next_revenue = last_known_revenue * (1 + average_growth_rate)\n",
    "    forecast_net_revenue.append(next_revenue)\n",
    "    last_known_revenue = next_revenue\n",
    "    \n",
    "forecast_net_revenue = pd.Series(forecast_net_revenue, index=[2025, 2026])\n",
    "\n",
    "# Round forecasted Net Revenue to 6 decimal places\n",
    "forecast_net_revenue = forecast_net_revenue.round(6)\n",
    "\n",
    "print(\"Forecasted Net Revenue:\")\n",
    "print(forecast_net_revenue)"
   ]
  },
  {
   "cell_type": "markdown",
   "metadata": {},
   "source": [
    "### Show combination of Growth rate and Regression Model"
   ]
  },
  {
   "cell_type": "code",
   "execution_count": 23,
   "metadata": {},
   "outputs": [],
   "source": [
    "# Predict GMV for the forecasted Net Revenue\n",
    "predicted_gmv_2 = forecast_net_revenue.apply(lambda x: predict_gmv(x, intercept, slope))\n",
    "\n",
    "df_final = df_rev_f.copy()\n",
    "\n",
    "# Add the forecasted Net Revenue and GMV values as new columns in the original dataframe\n",
    "df_final.loc[2025, 'Forecasted GMV'] = predicted_gmv_2[2025]\n",
    "df_final.loc[2026, 'Forecasted GMV'] = predicted_gmv_2[2026]\n",
    "\n",
    "df_final.loc[2025, 'Forecasted Net Revenue'] = forecast_net_revenue[2025]\n",
    "df_final.loc[2026, 'Forecasted Net Revenue'] = forecast_net_revenue[2026]"
   ]
  },
  {
   "cell_type": "code",
   "execution_count": 24,
   "metadata": {},
   "outputs": [
    {
     "data": {
      "text/html": [
       "<div>\n",
       "<style scoped>\n",
       "    .dataframe tbody tr th:only-of-type {\n",
       "        vertical-align: middle;\n",
       "    }\n",
       "\n",
       "    .dataframe tbody tr th {\n",
       "        vertical-align: top;\n",
       "    }\n",
       "\n",
       "    .dataframe thead th {\n",
       "        text-align: right;\n",
       "    }\n",
       "</style>\n",
       "<table border=\"1\" class=\"dataframe\">\n",
       "  <thead>\n",
       "    <tr style=\"text-align: right;\">\n",
       "      <th>Unnamed: 0</th>\n",
       "      <th>GMV</th>\n",
       "      <th>Net Revenue</th>\n",
       "      <th>Forecasted GMV</th>\n",
       "      <th>Forecasted Net Revenue</th>\n",
       "    </tr>\n",
       "  </thead>\n",
       "  <tbody>\n",
       "    <tr>\n",
       "      <th>2021</th>\n",
       "      <td>14.3</td>\n",
       "      <td>10.4</td>\n",
       "      <td>NaN</td>\n",
       "      <td>NaN</td>\n",
       "    </tr>\n",
       "    <tr>\n",
       "      <th>2022</th>\n",
       "      <td>14.8</td>\n",
       "      <td>10.3</td>\n",
       "      <td>NaN</td>\n",
       "      <td>NaN</td>\n",
       "    </tr>\n",
       "    <tr>\n",
       "      <th>2023</th>\n",
       "      <td>14.6</td>\n",
       "      <td>10.1</td>\n",
       "      <td>NaN</td>\n",
       "      <td>NaN</td>\n",
       "    </tr>\n",
       "    <tr>\n",
       "      <th>2024</th>\n",
       "      <td>14.8</td>\n",
       "      <td>10.3</td>\n",
       "      <td>NaN</td>\n",
       "      <td>NaN</td>\n",
       "    </tr>\n",
       "    <tr>\n",
       "      <th>2025</th>\n",
       "      <td>NaN</td>\n",
       "      <td>NaN</td>\n",
       "      <td>14.635418</td>\n",
       "      <td>10.301980</td>\n",
       "    </tr>\n",
       "    <tr>\n",
       "      <th>2026</th>\n",
       "      <td>NaN</td>\n",
       "      <td>NaN</td>\n",
       "      <td>14.638648</td>\n",
       "      <td>10.303961</td>\n",
       "    </tr>\n",
       "  </tbody>\n",
       "</table>\n",
       "</div>"
      ],
      "text/plain": [
       "Unnamed: 0   GMV  Net Revenue  Forecasted GMV  Forecasted Net Revenue\n",
       "2021        14.3         10.4             NaN                     NaN\n",
       "2022        14.8         10.3             NaN                     NaN\n",
       "2023        14.6         10.1             NaN                     NaN\n",
       "2024        14.8         10.3             NaN                     NaN\n",
       "2025         NaN          NaN       14.635418               10.301980\n",
       "2026         NaN          NaN       14.638648               10.303961"
      ]
     },
     "execution_count": 24,
     "metadata": {},
     "output_type": "execute_result"
    }
   ],
   "source": [
    "df_final"
   ]
  },
  {
   "cell_type": "markdown",
   "metadata": {},
   "source": [
    "## Final concatenated dataframe with as-is values and forecasts combined"
   ]
  },
  {
   "cell_type": "code",
   "execution_count": 25,
   "metadata": {},
   "outputs": [
    {
     "data": {
      "text/html": [
       "<div>\n",
       "<style scoped>\n",
       "    .dataframe tbody tr th:only-of-type {\n",
       "        vertical-align: middle;\n",
       "    }\n",
       "\n",
       "    .dataframe tbody tr th {\n",
       "        vertical-align: top;\n",
       "    }\n",
       "\n",
       "    .dataframe thead th {\n",
       "        text-align: right;\n",
       "    }\n",
       "</style>\n",
       "<table border=\"1\" class=\"dataframe\">\n",
       "  <thead>\n",
       "    <tr style=\"text-align: right;\">\n",
       "      <th></th>\n",
       "      <th>GMV</th>\n",
       "      <th>Net Revenue</th>\n",
       "    </tr>\n",
       "  </thead>\n",
       "  <tbody>\n",
       "    <tr>\n",
       "      <th>2021</th>\n",
       "      <td>14.300000</td>\n",
       "      <td>10.400000</td>\n",
       "    </tr>\n",
       "    <tr>\n",
       "      <th>2022</th>\n",
       "      <td>14.800000</td>\n",
       "      <td>10.300000</td>\n",
       "    </tr>\n",
       "    <tr>\n",
       "      <th>2023</th>\n",
       "      <td>14.600000</td>\n",
       "      <td>10.100000</td>\n",
       "    </tr>\n",
       "    <tr>\n",
       "      <th>2024</th>\n",
       "      <td>14.800000</td>\n",
       "      <td>10.300000</td>\n",
       "    </tr>\n",
       "    <tr>\n",
       "      <th>2025</th>\n",
       "      <td>14.635418</td>\n",
       "      <td>10.301980</td>\n",
       "    </tr>\n",
       "    <tr>\n",
       "      <th>2026</th>\n",
       "      <td>14.638648</td>\n",
       "      <td>10.303961</td>\n",
       "    </tr>\n",
       "  </tbody>\n",
       "</table>\n",
       "</div>"
      ],
      "text/plain": [
       "            GMV  Net Revenue\n",
       "2021  14.300000    10.400000\n",
       "2022  14.800000    10.300000\n",
       "2023  14.600000    10.100000\n",
       "2024  14.800000    10.300000\n",
       "2025  14.635418    10.301980\n",
       "2026  14.638648    10.303961"
      ]
     },
     "execution_count": 25,
     "metadata": {},
     "output_type": "execute_result"
    }
   ],
   "source": [
    "# Add the forecasted Net Revenue and GMV values as new rows in the original dataframe\n",
    "df_final_cat = pd.concat([df_rev_f, pd.DataFrame({\n",
    "    'Net Revenue': forecast_net_revenue,\n",
    "    'GMV': predicted_gmv_2\n",
    "})], ignore_index=True)\n",
    "\n",
    "# Update the index labels for the forecasted years\n",
    "df_final_cat.index = [year if year < 2025 else f\"{year}_Forecast\" for year in df_final_cat.index]\n",
    "\n",
    "# Update the index labels to include the years again\n",
    "df_final_cat.index = [year for year in range(2021, 2027)]\n",
    "\n",
    "df_final_cat"
   ]
  }
 ],
 "metadata": {
  "kernelspec": {
   "display_name": "base",
   "language": "python",
   "name": "python3"
  },
  "language_info": {
   "codemirror_mode": {
    "name": "ipython",
    "version": 3
   },
   "file_extension": ".py",
   "mimetype": "text/x-python",
   "name": "python",
   "nbconvert_exporter": "python",
   "pygments_lexer": "ipython3",
   "version": "3.12.2"
  }
 },
 "nbformat": 4,
 "nbformat_minor": 2
}
